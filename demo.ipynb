{
 "cells": [
  {
   "cell_type": "code",
   "execution_count": null,
   "metadata": {},
   "outputs": [],
   "source": [
    "%pip install ultralytics"
   ]
  },
  {
   "cell_type": "code",
   "execution_count": 16,
   "metadata": {},
   "outputs": [],
   "source": [
    "\n",
    "from ultralytics import YOLO\n",
    "import cv2\n",
    "\n",
    "# Load a pre-trained model\n",
    "model = YOLO('yolov8l.pt')  # n for nano, s for small, m for medium, l for large, x for extra large\n",
    "\n",
    "output_dir = 'cropped_objects'"
   ]
  },
  {
   "cell_type": "code",
   "execution_count": 17,
   "metadata": {},
   "outputs": [
    {
     "name": "stdout",
     "output_type": "stream",
     "text": [
      "\n",
      "0: 384x640 3 persons, 1 book, 112.3ms\n",
      "Speed: 1.0ms preprocess, 112.3ms inference, 1.0ms postprocess per image at shape (1, 3, 384, 640)\n"
     ]
    }
   ],
   "source": [
    "image_path = 'example-2.jpg'\n",
    "image = cv2.imread(image_path)\n",
    "results = model(image)"
   ]
  },
  {
   "cell_type": "code",
   "execution_count": 19,
   "metadata": {},
   "outputs": [
    {
     "name": "stdout",
     "output_type": "stream",
     "text": [
      "Largest object saved as 'cropped_objects/book_largest_0.79.jpg'\n"
     ]
    }
   ],
   "source": [
    "\n",
    "# Process each detected object\n",
    "largest_area = 0\n",
    "largest_object = None\n",
    "largest_class_id = None\n",
    "largest_conf = 0\n",
    "\n",
    "for i, result in enumerate(results):\n",
    "    boxes = result.boxes.cpu().numpy()\n",
    "    for j, box in enumerate(boxes):\n",
    "        r = box.xyxy[0].astype(int)\n",
    "        class_id = box.cls[0].astype(int)\n",
    "        conf = box.conf[0]\n",
    "        \n",
    "        # Calculate area of the bounding box\n",
    "        area = (r[2] - r[0]) * (r[3] - r[1])\n",
    "        \n",
    "        # Check if this object is larger than the previous largest\n",
    "        if area > largest_area and model.names[class_id] == 'book':\n",
    "            largest_area = area\n",
    "            largest_object = image[r[1]:r[3], r[0]:r[2]]\n",
    "            largest_class_id = class_id\n",
    "            largest_conf = conf\n",
    "\n",
    "# Save only the largest object\n",
    "if largest_object is not None:\n",
    "    filename = f\"{output_dir}/{model.names[largest_class_id]}_largest_{largest_conf:.2f}.jpg\"\n",
    "    cv2.imwrite(filename, largest_object)\n",
    "    print(f\"Largest object saved as '{filename}'\")\n",
    "else:\n",
    "    print(\"No objects detected in the image.\")"
   ]
  }
 ],
 "metadata": {
  "kernelspec": {
   "display_name": "Python 3",
   "language": "python",
   "name": "python3"
  },
  "language_info": {
   "codemirror_mode": {
    "name": "ipython",
    "version": 3
   },
   "file_extension": ".py",
   "mimetype": "text/x-python",
   "name": "python",
   "nbconvert_exporter": "python",
   "pygments_lexer": "ipython3",
   "version": "3.12.5"
  }
 },
 "nbformat": 4,
 "nbformat_minor": 2
}
